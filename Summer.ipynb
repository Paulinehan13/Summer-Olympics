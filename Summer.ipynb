{
  "nbformat": 4,
  "nbformat_minor": 0,
  "metadata": {
    "colab": {
      "name": "Summer.ipynb",
      "provenance": [],
      "collapsed_sections": []
    },
    "kernelspec": {
      "name": "python3",
      "display_name": "Python 3"
    },
    "language_info": {
      "name": "python"
    }
  },
  "cells": [
    {
      "cell_type": "code",
      "metadata": {
        "id": "i0hPGEw-83vX"
      },
      "source": [
        "import pandas as pd\n",
        "import matplotlib.pyplot as plt\n",
        "\n",
        "df = pd.read_csv(\"summer.csv\")"
      ],
      "execution_count": null,
      "outputs": []
    },
    {
      "cell_type": "markdown",
      "metadata": {
        "id": "w7uWTDEg2iyW"
      },
      "source": [
        "# 1. In how many cities Summer Olympics is held so far?"
      ]
    },
    {
      "cell_type": "code",
      "metadata": {
        "id": "wIoSYgoc9Yhq"
      },
      "source": [
        "data = []\n",
        "for city in df['City'].unique():\n",
        "  data.append([city, len(df[df['City'] == city])])\n",
        "len(data)"
      ],
      "execution_count": null,
      "outputs": []
    },
    {
      "cell_type": "markdown",
      "metadata": {
        "id": "Nzajq9uv2lop"
      },
      "source": [
        "\n",
        "# 2. Which sport is having most number of Gold Medals so far?(Top 5)"
      ]
    },
    {
      "cell_type": "code",
      "metadata": {
        "id": "uqsgsftaGHaN"
      },
      "source": [
        "data = []\n",
        "data = df[df['Medal'] == 'Gold'].Sport.value_counts().head()\n",
        "\n",
        "print(data)"
      ],
      "execution_count": null,
      "outputs": []
    },
    {
      "cell_type": "code",
      "metadata": {
        "id": "naXxdOwM-WlL"
      },
      "source": [
        "df1 = df[df.Medal == 'Gold']\n",
        "data = []\n",
        "for sport in df1['Sport'].unique():\n",
        "  data.append([sport, len(df1[df1.Sport == sport])])\n",
        "data = pd.DataFrame(data, columns = ['Sport', 'Gold']).sort_values(by = 'Gold', ascending = False).head().plot(x = 'Sport', y = 'Gold', kind = 'bar', figsize = (5, 5))\n",
        "plt.show()"
      ],
      "execution_count": null,
      "outputs": []
    },
    {
      "cell_type": "code",
      "metadata": {
        "id": "mOG1rSmqCj6C"
      },
      "source": [
        ""
      ],
      "execution_count": null,
      "outputs": []
    },
    {
      "cell_type": "markdown",
      "metadata": {
        "id": "FV0QWkNR2mOi"
      },
      "source": [
        "# 3. Which sport is having most number of medals so far?"
      ]
    },
    {
      "cell_type": "code",
      "metadata": {
        "id": "iVU9IYHlBIZm"
      },
      "source": [
        "print(df.Sport.value_counts().head())"
      ],
      "execution_count": null,
      "outputs": []
    },
    {
      "cell_type": "code",
      "metadata": {
        "id": "wvlSy5zKJg1s"
      },
      "source": [
        "df.groupby('Sport').count()['Medal'].sort_values(ascending = False).head().plot(x = 'Sport', y ='Medal', kind ='bar', figsize =(5, 5))"
      ],
      "execution_count": null,
      "outputs": []
    },
    {
      "cell_type": "markdown",
      "metadata": {
        "id": "AFXmkDFp2mxW"
      },
      "source": [
        "# 4. Which player has won most number of medals?(Top 5)"
      ]
    },
    {
      "cell_type": "code",
      "metadata": {
        "id": "D_Pn-tA5KXQA"
      },
      "source": [
        "data = df.Athlete.value_counts().head()\n",
        "data\n"
      ],
      "execution_count": null,
      "outputs": []
    },
    {
      "cell_type": "code",
      "metadata": {
        "id": "c_iEFhRPKh_y"
      },
      "source": [
        "df.Athlete.value_counts().head().plot(x = 'Athelete', y = 'Medal', kind = 'bar', figsize = (5, 5))\n",
        "plt.show()"
      ],
      "execution_count": null,
      "outputs": []
    },
    {
      "cell_type": "markdown",
      "metadata": {
        "id": "G2dxJ6Uy35XT"
      },
      "source": [
        "# 5. Which player has won most number of Gold Medals?(Top 5)"
      ]
    },
    {
      "cell_type": "code",
      "metadata": {
        "id": "Nl-HzYrULQZB"
      },
      "source": [
        "data = []\n",
        "data = df[df['Medal'] == 'Gold'].Athlete.value_counts().head()\n",
        "print(data)"
      ],
      "execution_count": null,
      "outputs": []
    },
    {
      "cell_type": "code",
      "metadata": {
        "id": "6fHrH3nHPnqf"
      },
      "source": [
        "data1 = []\n",
        "for i in range(len(data)):\n",
        "  data1.append([data.index[i], data[i]])\n",
        "\n",
        "pd.DataFrame(data1, columns = ['Athlete', 'freq']).sort_values(by = 'freq', ascending = False).plot(x = 'Athlete', y = 'freq', kind ='bar', figsize = (5, 5))"
      ],
      "execution_count": null,
      "outputs": []
    },
    {
      "cell_type": "markdown",
      "metadata": {
        "id": "vhyOwoH14URs"
      },
      "source": [
        "# 6. In which year India won first Gold Medal in Summer Oympics?"
      ]
    },
    {
      "cell_type": "code",
      "metadata": {
        "id": "1x2Fi7KHPS4I"
      },
      "source": [
        "data = []\n",
        "df1 = df[df.Medal == 'Gold']\n",
        "data = min(df1[df1.Country == \"IND\"].Year)\n",
        "print(data)"
      ],
      "execution_count": null,
      "outputs": []
    },
    {
      "cell_type": "markdown",
      "metadata": {
        "id": "nqErrkQV4tcy"
      },
      "source": [
        "# 7. Which event is most popular in terms on number of players?(Top 5)"
      ]
    },
    {
      "cell_type": "code",
      "metadata": {
        "id": "FYaMrXvAQmj0"
      },
      "source": [
        "data = []\n",
        "data = df['Event'].value_counts().head()\n",
        "print(data)"
      ],
      "execution_count": null,
      "outputs": []
    },
    {
      "cell_type": "code",
      "metadata": {
        "id": "uKY9SGJoQ4R4"
      },
      "source": [
        "data1 = []\n",
        "for i in range(len(data)):\n",
        "  data1.append([data.index[i], data[i]])\n",
        "\n",
        "pd.DataFrame(data1, columns = ['Event', 'freq']).sort_values(by = 'freq', ascending = False).plot(x = 'Event', y = 'freq', kind ='bar', figsize = (5, 5))"
      ],
      "execution_count": null,
      "outputs": []
    },
    {
      "cell_type": "markdown",
      "metadata": {
        "id": "BeabUtXW432d"
      },
      "source": [
        "# 8. Which sport is having most female Gold Medalists?(Top 5)"
      ]
    },
    {
      "cell_type": "code",
      "metadata": {
        "id": "VjxJLP-UReZo"
      },
      "source": [
        "df1 = df[df.Medal == 'Gold']\n",
        "data = []\n",
        "data = df1[df1.Gender == 'Women'].Sport.value_counts().head()\n",
        "print(data)"
      ],
      "execution_count": null,
      "outputs": []
    },
    {
      "cell_type": "code",
      "metadata": {
        "id": "TsCIHyw1Q2P8"
      },
      "source": [
        "data1 = []\n",
        "for i in range(len(data)):\n",
        "  data1.append([data.index[i], data[i]])\n",
        "\n",
        "pd.DataFrame(data1, columns = ['Sport', 'Female_medalists']).sort_values(by = 'Female_medalists', ascending = False).plot(x = 'Sport', y = 'Female_medalists', kind ='bar', figsize = (5, 5))"
      ],
      "execution_count": null,
      "outputs": []
    }
  ]
}
